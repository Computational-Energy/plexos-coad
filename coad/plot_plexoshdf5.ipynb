{
 "cells": [
  {
   "cell_type": "code",
   "execution_count": null,
   "metadata": {
    "collapsed": false
   },
   "outputs": [],
   "source": [
    "from plexos2hdf5 import plexos2hdf5\n",
    "from pandas import DataFrame, Series, to_datetime\n",
    "%matplotlib inline"
   ]
  },
  {
   "cell_type": "markdown",
   "metadata": {},
   "source": [
    "###Process the Plexos output zipfile"
   ]
  },
  {
   "cell_type": "code",
   "execution_count": null,
   "metadata": {
    "collapsed": false
   },
   "outputs": [],
   "source": [
    "h5filename = \"test/mda_output.zip\"\n",
    "#h5filename = \"mbs.zip\" # Large file\n",
    "h5file = plexos2hdf5(h5filename)"
   ]
  },
  {
   "cell_type": "markdown",
   "metadata": {},
   "source": [
    "###Explore groups within the hdf5 file"
   ]
  },
  {
   "cell_type": "code",
   "execution_count": null,
   "metadata": {
    "collapsed": false
   },
   "outputs": [],
   "source": [
    "list(h5file)"
   ]
  },
  {
   "cell_type": "code",
   "execution_count": null,
   "metadata": {
    "collapsed": false
   },
   "outputs": [],
   "source": [
    "list(h5file[\"/Line\"])"
   ]
  },
  {
   "cell_type": "code",
   "execution_count": null,
   "metadata": {
    "collapsed": false
   },
   "outputs": [],
   "source": [
    "list(h5file[\"/Line/B0_B2\"])"
   ]
  },
  {
   "cell_type": "code",
   "execution_count": null,
   "metadata": {
    "collapsed": false
   },
   "outputs": [],
   "source": [
    "list(h5file[\"/Line/B0_B2/Flow\"])"
   ]
  },
  {
   "cell_type": "code",
   "execution_count": null,
   "metadata": {
    "collapsed": false
   },
   "outputs": [],
   "source": [
    "list(h5file[\"/Line/B0_B2/Flow/period_0\"])"
   ]
  },
  {
   "cell_type": "code",
   "execution_count": null,
   "metadata": {
    "collapsed": false
   },
   "outputs": [],
   "source": [
    "list(h5file[\"/Line/B0_B2/Flow/period_0/phase_4\"])"
   ]
  },
  {
   "cell_type": "code",
   "execution_count": null,
   "metadata": {
    "collapsed": false
   },
   "outputs": [],
   "source": [
    "h5file[\"/Line/B0_B2/Flow/period_0/phase_4/band_1\"]"
   ]
  },
  {
   "cell_type": "markdown",
   "metadata": {},
   "source": [
    "###Create DataFrame from hdf5 datasets"
   ]
  },
  {
   "cell_type": "code",
   "execution_count": null,
   "metadata": {
    "collapsed": false
   },
   "outputs": [],
   "source": [
    "data = { 'B0_B1':h5file[\"/Line/B0_B1/Flow/period_0/phase_4/band_1\"],\n",
    "         'B0_B2':h5file[\"/Line/B0_B2/Flow/period_0/phase_4/band_1\"],\n",
    "         'B1_B2':h5file[\"/Line/B1_B2/Flow/period_0/phase_4/band_1\"],\n",
    "        }\n",
    "# data uses the first set of times from the phase\n",
    "times = h5file['times/phase_4'][0:len(data['B0_B1'])] \n",
    "conv_times = Series([ to_datetime(date) for date in times ])\n",
    "unit = h5file[\"/Line/B0_B2/Flow/period_0/phase_4/band_1\"].attrs['unit']\n",
    "d = DataFrame(data=data, index=conv_times)"
   ]
  },
  {
   "cell_type": "code",
   "execution_count": null,
   "metadata": {
    "collapsed": false
   },
   "outputs": [],
   "source": [
    "pl = d.plot(lw=0, marker='.')\n",
    "pl.set_ylabel('Flow (%s)'%(unit))"
   ]
  },
  {
   "cell_type": "markdown",
   "metadata": {},
   "source": [
    "###Attributes stored in each group represent data from the Plexos xml file"
   ]
  },
  {
   "cell_type": "code",
   "execution_count": null,
   "metadata": {
    "collapsed": false
   },
   "outputs": [],
   "source": [
    "dict((k, v) for (k, v) in h5file[\"/Line\"].attrs.iteritems())"
   ]
  },
  {
   "cell_type": "code",
   "execution_count": null,
   "metadata": {
    "collapsed": false
   },
   "outputs": [],
   "source": [
    "dict((k, v) for (k, v) in h5file[\"/Line/B0_B1\"].attrs.iteritems())"
   ]
  },
  {
   "cell_type": "code",
   "execution_count": null,
   "metadata": {
    "collapsed": true
   },
   "outputs": [],
   "source": []
  }
 ],
 "metadata": {
  "kernelspec": {
   "display_name": "Python 2",
   "language": "python",
   "name": "python2"
  },
  "language_info": {
   "codemirror_mode": {
    "name": "ipython",
    "version": 2
   },
   "file_extension": ".py",
   "mimetype": "text/x-python",
   "name": "python",
   "nbconvert_exporter": "python",
   "pygments_lexer": "ipython2",
   "version": "2.7.8"
  }
 },
 "nbformat": 4,
 "nbformat_minor": 0
}
